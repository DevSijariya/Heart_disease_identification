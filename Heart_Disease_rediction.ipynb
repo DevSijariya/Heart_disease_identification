{
 "cells": [
  {
   "cell_type": "code",
   "execution_count": 3,
   "metadata": {},
   "outputs": [],
   "source": [
    "import pandas as pd\n",
    "import numpy as np\n",
    "from sklearn import preprocessing\n",
    "import matplotlib.pyplot as plt\n",
    "import seaborn as sn"
   ]
  },
  {
   "cell_type": "code",
   "execution_count": 4,
   "metadata": {},
   "outputs": [],
   "source": [
    "data=pd.read_csv(r\"D:\\lnb data science course\\Heart Disease Prediction\\framingham.csv\")" #path where you save the csv file
   ]
  },
  {
   "cell_type": "code",
   "execution_count": 5,
   "metadata": {},
   "outputs": [
    {
     "data": {
      "text/html": [
       "<div>\n",
       "<style scoped>\n",
       "    .dataframe tbody tr th:only-of-type {\n",
       "        vertical-align: middle;\n",
       "    }\n",
       "\n",
       "    .dataframe tbody tr th {\n",
       "        vertical-align: top;\n",
       "    }\n",
       "\n",
       "    .dataframe thead th {\n",
       "        text-align: right;\n",
       "    }\n",
       "</style>\n",
       "<table border=\"1\" class=\"dataframe\">\n",
       "  <thead>\n",
       "    <tr style=\"text-align: right;\">\n",
       "      <th></th>\n",
       "      <th>male</th>\n",
       "      <th>age</th>\n",
       "      <th>education</th>\n",
       "      <th>currentSmoker</th>\n",
       "      <th>cigsPerDay</th>\n",
       "      <th>BPMeds</th>\n",
       "      <th>prevalentStroke</th>\n",
       "      <th>prevalentHyp</th>\n",
       "      <th>diabetes</th>\n",
       "      <th>totChol</th>\n",
       "      <th>sysBP</th>\n",
       "      <th>diaBP</th>\n",
       "      <th>BMI</th>\n",
       "      <th>heartRate</th>\n",
       "      <th>glucose</th>\n",
       "      <th>TenYearCHD</th>\n",
       "    </tr>\n",
       "  </thead>\n",
       "  <tbody>\n",
       "    <tr>\n",
       "      <th>0</th>\n",
       "      <td>1</td>\n",
       "      <td>39</td>\n",
       "      <td>4.0</td>\n",
       "      <td>0</td>\n",
       "      <td>0.0</td>\n",
       "      <td>0.0</td>\n",
       "      <td>0</td>\n",
       "      <td>0</td>\n",
       "      <td>0</td>\n",
       "      <td>195.0</td>\n",
       "      <td>106.0</td>\n",
       "      <td>70.0</td>\n",
       "      <td>26.97</td>\n",
       "      <td>80.0</td>\n",
       "      <td>77.0</td>\n",
       "      <td>0</td>\n",
       "    </tr>\n",
       "    <tr>\n",
       "      <th>1</th>\n",
       "      <td>0</td>\n",
       "      <td>46</td>\n",
       "      <td>2.0</td>\n",
       "      <td>0</td>\n",
       "      <td>0.0</td>\n",
       "      <td>0.0</td>\n",
       "      <td>0</td>\n",
       "      <td>0</td>\n",
       "      <td>0</td>\n",
       "      <td>250.0</td>\n",
       "      <td>121.0</td>\n",
       "      <td>81.0</td>\n",
       "      <td>28.73</td>\n",
       "      <td>95.0</td>\n",
       "      <td>76.0</td>\n",
       "      <td>0</td>\n",
       "    </tr>\n",
       "    <tr>\n",
       "      <th>2</th>\n",
       "      <td>1</td>\n",
       "      <td>48</td>\n",
       "      <td>1.0</td>\n",
       "      <td>1</td>\n",
       "      <td>20.0</td>\n",
       "      <td>0.0</td>\n",
       "      <td>0</td>\n",
       "      <td>0</td>\n",
       "      <td>0</td>\n",
       "      <td>245.0</td>\n",
       "      <td>127.5</td>\n",
       "      <td>80.0</td>\n",
       "      <td>25.34</td>\n",
       "      <td>75.0</td>\n",
       "      <td>70.0</td>\n",
       "      <td>0</td>\n",
       "    </tr>\n",
       "    <tr>\n",
       "      <th>3</th>\n",
       "      <td>0</td>\n",
       "      <td>61</td>\n",
       "      <td>3.0</td>\n",
       "      <td>1</td>\n",
       "      <td>30.0</td>\n",
       "      <td>0.0</td>\n",
       "      <td>0</td>\n",
       "      <td>1</td>\n",
       "      <td>0</td>\n",
       "      <td>225.0</td>\n",
       "      <td>150.0</td>\n",
       "      <td>95.0</td>\n",
       "      <td>28.58</td>\n",
       "      <td>65.0</td>\n",
       "      <td>103.0</td>\n",
       "      <td>1</td>\n",
       "    </tr>\n",
       "    <tr>\n",
       "      <th>4</th>\n",
       "      <td>0</td>\n",
       "      <td>46</td>\n",
       "      <td>3.0</td>\n",
       "      <td>1</td>\n",
       "      <td>23.0</td>\n",
       "      <td>0.0</td>\n",
       "      <td>0</td>\n",
       "      <td>0</td>\n",
       "      <td>0</td>\n",
       "      <td>285.0</td>\n",
       "      <td>130.0</td>\n",
       "      <td>84.0</td>\n",
       "      <td>23.10</td>\n",
       "      <td>85.0</td>\n",
       "      <td>85.0</td>\n",
       "      <td>0</td>\n",
       "    </tr>\n",
       "    <tr>\n",
       "      <th>...</th>\n",
       "      <td>...</td>\n",
       "      <td>...</td>\n",
       "      <td>...</td>\n",
       "      <td>...</td>\n",
       "      <td>...</td>\n",
       "      <td>...</td>\n",
       "      <td>...</td>\n",
       "      <td>...</td>\n",
       "      <td>...</td>\n",
       "      <td>...</td>\n",
       "      <td>...</td>\n",
       "      <td>...</td>\n",
       "      <td>...</td>\n",
       "      <td>...</td>\n",
       "      <td>...</td>\n",
       "      <td>...</td>\n",
       "    </tr>\n",
       "    <tr>\n",
       "      <th>4235</th>\n",
       "      <td>0</td>\n",
       "      <td>48</td>\n",
       "      <td>2.0</td>\n",
       "      <td>1</td>\n",
       "      <td>20.0</td>\n",
       "      <td>NaN</td>\n",
       "      <td>0</td>\n",
       "      <td>0</td>\n",
       "      <td>0</td>\n",
       "      <td>248.0</td>\n",
       "      <td>131.0</td>\n",
       "      <td>72.0</td>\n",
       "      <td>22.00</td>\n",
       "      <td>84.0</td>\n",
       "      <td>86.0</td>\n",
       "      <td>0</td>\n",
       "    </tr>\n",
       "    <tr>\n",
       "      <th>4236</th>\n",
       "      <td>0</td>\n",
       "      <td>44</td>\n",
       "      <td>1.0</td>\n",
       "      <td>1</td>\n",
       "      <td>15.0</td>\n",
       "      <td>0.0</td>\n",
       "      <td>0</td>\n",
       "      <td>0</td>\n",
       "      <td>0</td>\n",
       "      <td>210.0</td>\n",
       "      <td>126.5</td>\n",
       "      <td>87.0</td>\n",
       "      <td>19.16</td>\n",
       "      <td>86.0</td>\n",
       "      <td>NaN</td>\n",
       "      <td>0</td>\n",
       "    </tr>\n",
       "    <tr>\n",
       "      <th>4237</th>\n",
       "      <td>0</td>\n",
       "      <td>52</td>\n",
       "      <td>2.0</td>\n",
       "      <td>0</td>\n",
       "      <td>0.0</td>\n",
       "      <td>0.0</td>\n",
       "      <td>0</td>\n",
       "      <td>0</td>\n",
       "      <td>0</td>\n",
       "      <td>269.0</td>\n",
       "      <td>133.5</td>\n",
       "      <td>83.0</td>\n",
       "      <td>21.47</td>\n",
       "      <td>80.0</td>\n",
       "      <td>107.0</td>\n",
       "      <td>0</td>\n",
       "    </tr>\n",
       "    <tr>\n",
       "      <th>4238</th>\n",
       "      <td>1</td>\n",
       "      <td>40</td>\n",
       "      <td>3.0</td>\n",
       "      <td>0</td>\n",
       "      <td>0.0</td>\n",
       "      <td>0.0</td>\n",
       "      <td>0</td>\n",
       "      <td>1</td>\n",
       "      <td>0</td>\n",
       "      <td>185.0</td>\n",
       "      <td>141.0</td>\n",
       "      <td>98.0</td>\n",
       "      <td>25.60</td>\n",
       "      <td>67.0</td>\n",
       "      <td>72.0</td>\n",
       "      <td>0</td>\n",
       "    </tr>\n",
       "    <tr>\n",
       "      <th>4239</th>\n",
       "      <td>0</td>\n",
       "      <td>39</td>\n",
       "      <td>3.0</td>\n",
       "      <td>1</td>\n",
       "      <td>30.0</td>\n",
       "      <td>0.0</td>\n",
       "      <td>0</td>\n",
       "      <td>0</td>\n",
       "      <td>0</td>\n",
       "      <td>196.0</td>\n",
       "      <td>133.0</td>\n",
       "      <td>86.0</td>\n",
       "      <td>20.91</td>\n",
       "      <td>85.0</td>\n",
       "      <td>80.0</td>\n",
       "      <td>0</td>\n",
       "    </tr>\n",
       "  </tbody>\n",
       "</table>\n",
       "<p>4240 rows × 16 columns</p>\n",
       "</div>"
      ],
      "text/plain": [
       "      male  age  education  currentSmoker  cigsPerDay  BPMeds  \\\n",
       "0        1   39        4.0              0         0.0     0.0   \n",
       "1        0   46        2.0              0         0.0     0.0   \n",
       "2        1   48        1.0              1        20.0     0.0   \n",
       "3        0   61        3.0              1        30.0     0.0   \n",
       "4        0   46        3.0              1        23.0     0.0   \n",
       "...    ...  ...        ...            ...         ...     ...   \n",
       "4235     0   48        2.0              1        20.0     NaN   \n",
       "4236     0   44        1.0              1        15.0     0.0   \n",
       "4237     0   52        2.0              0         0.0     0.0   \n",
       "4238     1   40        3.0              0         0.0     0.0   \n",
       "4239     0   39        3.0              1        30.0     0.0   \n",
       "\n",
       "      prevalentStroke  prevalentHyp  diabetes  totChol  sysBP  diaBP    BMI  \\\n",
       "0                   0             0         0    195.0  106.0   70.0  26.97   \n",
       "1                   0             0         0    250.0  121.0   81.0  28.73   \n",
       "2                   0             0         0    245.0  127.5   80.0  25.34   \n",
       "3                   0             1         0    225.0  150.0   95.0  28.58   \n",
       "4                   0             0         0    285.0  130.0   84.0  23.10   \n",
       "...               ...           ...       ...      ...    ...    ...    ...   \n",
       "4235                0             0         0    248.0  131.0   72.0  22.00   \n",
       "4236                0             0         0    210.0  126.5   87.0  19.16   \n",
       "4237                0             0         0    269.0  133.5   83.0  21.47   \n",
       "4238                0             1         0    185.0  141.0   98.0  25.60   \n",
       "4239                0             0         0    196.0  133.0   86.0  20.91   \n",
       "\n",
       "      heartRate  glucose  TenYearCHD  \n",
       "0          80.0     77.0           0  \n",
       "1          95.0     76.0           0  \n",
       "2          75.0     70.0           0  \n",
       "3          65.0    103.0           1  \n",
       "4          85.0     85.0           0  \n",
       "...         ...      ...         ...  \n",
       "4235       84.0     86.0           0  \n",
       "4236       86.0      NaN           0  \n",
       "4237       80.0    107.0           0  \n",
       "4238       67.0     72.0           0  \n",
       "4239       85.0     80.0           0  \n",
       "\n",
       "[4240 rows x 16 columns]"
      ]
     },
     "execution_count": 5,
     "metadata": {},
     "output_type": "execute_result"
    }
   ],
   "source": [
    "data"
   ]
  },
  {
   "cell_type": "markdown",
   "metadata": {},
   "source": [
    "Data cleaning"
   ]
  },
  {
   "cell_type": "code",
   "execution_count": 6,
   "metadata": {},
   "outputs": [],
   "source": [
    "#in the heart disease we doesn't need education\n",
    "data.drop(['education'],inplace=True,axis=1)\n",
    "data.rename(columns={'male':\"Sex_male\"},inplace=True)"
   ]
  },
  {
   "cell_type": "code",
   "execution_count": 7,
   "metadata": {},
   "outputs": [
    {
     "name": "stdout",
     "output_type": "stream",
     "text": [
      "   Sex_male  age  currentSmoker  cigsPerDay  BPMeds  prevalentStroke  \\\n",
      "0         1   39              0         0.0     0.0                0   \n",
      "1         0   46              0         0.0     0.0                0   \n",
      "2         1   48              1        20.0     0.0                0   \n",
      "3         0   61              1        30.0     0.0                0   \n",
      "4         0   46              1        23.0     0.0                0   \n",
      "\n",
      "   prevalentHyp  diabetes  totChol  sysBP  diaBP    BMI  heartRate  glucose  \\\n",
      "0             0         0    195.0  106.0   70.0  26.97       80.0     77.0   \n",
      "1             0         0    250.0  121.0   81.0  28.73       95.0     76.0   \n",
      "2             0         0    245.0  127.5   80.0  25.34       75.0     70.0   \n",
      "3             1         0    225.0  150.0   95.0  28.58       65.0    103.0   \n",
      "4             0         0    285.0  130.0   84.0  23.10       85.0     85.0   \n",
      "\n",
      "   TenYearCHD  \n",
      "0           0  \n",
      "1           0  \n",
      "2           0  \n",
      "3           1  \n",
      "4           0  \n"
     ]
    }
   ],
   "source": [
    "print(data.head())"
   ]
  },
  {
   "cell_type": "code",
   "execution_count": 8,
   "metadata": {},
   "outputs": [
    {
     "name": "stdout",
     "output_type": "stream",
     "text": [
      "(4240, 15)\n"
     ]
    }
   ],
   "source": [
    "print(data.shape)"
   ]
  },
  {
   "cell_type": "code",
   "execution_count": 9,
   "metadata": {},
   "outputs": [],
   "source": [
    "data.dropna(axis=0,inplace=True)"
   ]
  },
  {
   "cell_type": "code",
   "execution_count": 10,
   "metadata": {},
   "outputs": [
    {
     "name": "stdout",
     "output_type": "stream",
     "text": [
      "(3751, 15)\n"
     ]
    }
   ],
   "source": [
    "print(data.shape)"
   ]
  },
  {
   "cell_type": "code",
   "execution_count": 11,
   "metadata": {},
   "outputs": [
    {
     "name": "stdout",
     "output_type": "stream",
     "text": [
      "0    3179\n",
      "1     572\n",
      "Name: TenYearCHD, dtype: int64\n"
     ]
    }
   ],
   "source": [
    "print(data.TenYearCHD.value_counts())"
   ]
  },
  {
   "cell_type": "code",
   "execution_count": 12,
   "metadata": {},
   "outputs": [
    {
     "data": {
      "image/png": "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",
      "text/plain": [
       "<Figure size 640x480 with 1 Axes>"
      ]
     },
     "metadata": {},
     "output_type": "display_data"
    }
   ],
   "source": [
    "\n",
    "laste = data['TenYearCHD'].plot()\n",
    "plt.show(laste)"
   ]
  },
  {
   "cell_type": "code",
   "execution_count": 13,
   "metadata": {},
   "outputs": [],
   "source": [
    "X = np.asarray(data[['age', 'Sex_male', 'cigsPerDay',\n",
    "                           'totChol', 'sysBP', 'glucose']])  #features\n",
    "y=np.array(data[['TenYearCHD']])  #target"
   ]
  },
  {
   "cell_type": "markdown",
   "metadata": {},
   "source": [
    "Normalization\n"
   ]
  },
  {
   "cell_type": "code",
   "execution_count": 14,
   "metadata": {},
   "outputs": [],
   "source": [
    "X=preprocessing.StandardScaler().fit(X).transform(X)"
   ]
  },
  {
   "cell_type": "markdown",
   "metadata": {},
   "source": [
    "Now Split the data into training and testing"
   ]
  },
  {
   "cell_type": "code",
   "execution_count": 15,
   "metadata": {},
   "outputs": [],
   "source": [
    "from sklearn.model_selection import train_test_split\n",
    "x_train,x_test,y_train,y_test = train_test_split(X,y,test_size=0.3,random_state=4)"
   ]
  },
  {
   "cell_type": "code",
   "execution_count": 16,
   "metadata": {},
   "outputs": [
    {
     "name": "stdout",
     "output_type": "stream",
     "text": [
      "Train set  (2625, 6) (2625, 1)\n",
      "Test set  (1126, 6) (1126, 1)\n"
     ]
    }
   ],
   "source": [
    "print('Train set ',x_train.shape, y_train.shape)\n",
    "print('Test set ',x_test.shape, y_test.shape)"
   ]
  },
  {
   "cell_type": "code",
   "execution_count": 17,
   "metadata": {},
   "outputs": [],
   "source": [
    "from sklearn.linear_model import LogisticRegression\n",
    "model=LogisticRegression()"
   ]
  },
  {
   "cell_type": "code",
   "execution_count": 18,
   "metadata": {},
   "outputs": [
    {
     "name": "stderr",
     "output_type": "stream",
     "text": [
      "e:\\newpy\\lib\\site-packages\\sklearn\\utils\\validation.py:1184: DataConversionWarning: A column-vector y was passed when a 1d array was expected. Please change the shape of y to (n_samples, ), for example using ravel().\n",
      "  y = column_or_1d(y, warn=True)\n"
     ]
    },
    {
     "data": {
      "text/html": [
       "<style>#sk-container-id-1 {color: black;}#sk-container-id-1 pre{padding: 0;}#sk-container-id-1 div.sk-toggleable {background-color: white;}#sk-container-id-1 label.sk-toggleable__label {cursor: pointer;display: block;width: 100%;margin-bottom: 0;padding: 0.3em;box-sizing: border-box;text-align: center;}#sk-container-id-1 label.sk-toggleable__label-arrow:before {content: \"▸\";float: left;margin-right: 0.25em;color: #696969;}#sk-container-id-1 label.sk-toggleable__label-arrow:hover:before {color: black;}#sk-container-id-1 div.sk-estimator:hover label.sk-toggleable__label-arrow:before {color: black;}#sk-container-id-1 div.sk-toggleable__content {max-height: 0;max-width: 0;overflow: hidden;text-align: left;background-color: #f0f8ff;}#sk-container-id-1 div.sk-toggleable__content pre {margin: 0.2em;color: black;border-radius: 0.25em;background-color: #f0f8ff;}#sk-container-id-1 input.sk-toggleable__control:checked~div.sk-toggleable__content {max-height: 200px;max-width: 100%;overflow: auto;}#sk-container-id-1 input.sk-toggleable__control:checked~label.sk-toggleable__label-arrow:before {content: \"▾\";}#sk-container-id-1 div.sk-estimator input.sk-toggleable__control:checked~label.sk-toggleable__label {background-color: #d4ebff;}#sk-container-id-1 div.sk-label input.sk-toggleable__control:checked~label.sk-toggleable__label {background-color: #d4ebff;}#sk-container-id-1 input.sk-hidden--visually {border: 0;clip: rect(1px 1px 1px 1px);clip: rect(1px, 1px, 1px, 1px);height: 1px;margin: -1px;overflow: hidden;padding: 0;position: absolute;width: 1px;}#sk-container-id-1 div.sk-estimator {font-family: monospace;background-color: #f0f8ff;border: 1px dotted black;border-radius: 0.25em;box-sizing: border-box;margin-bottom: 0.5em;}#sk-container-id-1 div.sk-estimator:hover {background-color: #d4ebff;}#sk-container-id-1 div.sk-parallel-item::after {content: \"\";width: 100%;border-bottom: 1px solid gray;flex-grow: 1;}#sk-container-id-1 div.sk-label:hover label.sk-toggleable__label {background-color: #d4ebff;}#sk-container-id-1 div.sk-serial::before {content: \"\";position: absolute;border-left: 1px solid gray;box-sizing: border-box;top: 0;bottom: 0;left: 50%;z-index: 0;}#sk-container-id-1 div.sk-serial {display: flex;flex-direction: column;align-items: center;background-color: white;padding-right: 0.2em;padding-left: 0.2em;position: relative;}#sk-container-id-1 div.sk-item {position: relative;z-index: 1;}#sk-container-id-1 div.sk-parallel {display: flex;align-items: stretch;justify-content: center;background-color: white;position: relative;}#sk-container-id-1 div.sk-item::before, #sk-container-id-1 div.sk-parallel-item::before {content: \"\";position: absolute;border-left: 1px solid gray;box-sizing: border-box;top: 0;bottom: 0;left: 50%;z-index: -1;}#sk-container-id-1 div.sk-parallel-item {display: flex;flex-direction: column;z-index: 1;position: relative;background-color: white;}#sk-container-id-1 div.sk-parallel-item:first-child::after {align-self: flex-end;width: 50%;}#sk-container-id-1 div.sk-parallel-item:last-child::after {align-self: flex-start;width: 50%;}#sk-container-id-1 div.sk-parallel-item:only-child::after {width: 0;}#sk-container-id-1 div.sk-dashed-wrapped {border: 1px dashed gray;margin: 0 0.4em 0.5em 0.4em;box-sizing: border-box;padding-bottom: 0.4em;background-color: white;}#sk-container-id-1 div.sk-label label {font-family: monospace;font-weight: bold;display: inline-block;line-height: 1.2em;}#sk-container-id-1 div.sk-label-container {text-align: center;}#sk-container-id-1 div.sk-container {/* jupyter's `normalize.less` sets `[hidden] { display: none; }` but bootstrap.min.css set `[hidden] { display: none !important; }` so we also need the `!important` here to be able to override the default hidden behavior on the sphinx rendered scikit-learn.org. See: https://github.com/scikit-learn/scikit-learn/issues/21755 */display: inline-block !important;position: relative;}#sk-container-id-1 div.sk-text-repr-fallback {display: none;}</style><div id=\"sk-container-id-1\" class=\"sk-top-container\"><div class=\"sk-text-repr-fallback\"><pre>LogisticRegression()</pre><b>In a Jupyter environment, please rerun this cell to show the HTML representation or trust the notebook. <br />On GitHub, the HTML representation is unable to render, please try loading this page with nbviewer.org.</b></div><div class=\"sk-container\" hidden><div class=\"sk-item\"><div class=\"sk-estimator sk-toggleable\"><input class=\"sk-toggleable__control sk-hidden--visually\" id=\"sk-estimator-id-1\" type=\"checkbox\" checked><label for=\"sk-estimator-id-1\" class=\"sk-toggleable__label sk-toggleable__label-arrow\">LogisticRegression</label><div class=\"sk-toggleable__content\"><pre>LogisticRegression()</pre></div></div></div></div></div>"
      ],
      "text/plain": [
       "LogisticRegression()"
      ]
     },
     "execution_count": 18,
     "metadata": {},
     "output_type": "execute_result"
    }
   ],
   "source": [
    "model.fit(x_train,y_train)"
   ]
  },
  {
   "cell_type": "code",
   "execution_count": 19,
   "metadata": {},
   "outputs": [],
   "source": [
    "y_pred=model.predict(x_test)"
   ]
  },
  {
   "cell_type": "code",
   "execution_count": 20,
   "metadata": {},
   "outputs": [],
   "source": [
    "from sklearn.metrics import jaccard_score"
   ]
  },
  {
   "cell_type": "code",
   "execution_count": 21,
   "metadata": {},
   "outputs": [
    {
     "name": "stdout",
     "output_type": "stream",
     "text": [
      "\n",
      "Accuracy of the model is jaccard scoe is =  0.07608695652173914\n"
     ]
    }
   ],
   "source": [
    "print('')\n",
    "print('Accuracy of the model is jaccard scoe is = ',jaccard_score(y_test,y_pred))"
   ]
  },
  {
   "cell_type": "code",
   "execution_count": 22,
   "metadata": {},
   "outputs": [
    {
     "name": "stderr",
     "output_type": "stream",
     "text": [
      "e:\\newpy\\lib\\site-packages\\sklearn\\base.py:1151: DataConversionWarning: A column-vector y was passed when a 1d array was expected. Please change the shape of y to (n_samples,), for example using ravel().\n",
      "  return fit_method(estimator, *args, **kwargs)\n"
     ]
    },
    {
     "data": {
      "text/html": [
       "<style>#sk-container-id-2 {color: black;}#sk-container-id-2 pre{padding: 0;}#sk-container-id-2 div.sk-toggleable {background-color: white;}#sk-container-id-2 label.sk-toggleable__label {cursor: pointer;display: block;width: 100%;margin-bottom: 0;padding: 0.3em;box-sizing: border-box;text-align: center;}#sk-container-id-2 label.sk-toggleable__label-arrow:before {content: \"▸\";float: left;margin-right: 0.25em;color: #696969;}#sk-container-id-2 label.sk-toggleable__label-arrow:hover:before {color: black;}#sk-container-id-2 div.sk-estimator:hover label.sk-toggleable__label-arrow:before {color: black;}#sk-container-id-2 div.sk-toggleable__content {max-height: 0;max-width: 0;overflow: hidden;text-align: left;background-color: #f0f8ff;}#sk-container-id-2 div.sk-toggleable__content pre {margin: 0.2em;color: black;border-radius: 0.25em;background-color: #f0f8ff;}#sk-container-id-2 input.sk-toggleable__control:checked~div.sk-toggleable__content {max-height: 200px;max-width: 100%;overflow: auto;}#sk-container-id-2 input.sk-toggleable__control:checked~label.sk-toggleable__label-arrow:before {content: \"▾\";}#sk-container-id-2 div.sk-estimator input.sk-toggleable__control:checked~label.sk-toggleable__label {background-color: #d4ebff;}#sk-container-id-2 div.sk-label input.sk-toggleable__control:checked~label.sk-toggleable__label {background-color: #d4ebff;}#sk-container-id-2 input.sk-hidden--visually {border: 0;clip: rect(1px 1px 1px 1px);clip: rect(1px, 1px, 1px, 1px);height: 1px;margin: -1px;overflow: hidden;padding: 0;position: absolute;width: 1px;}#sk-container-id-2 div.sk-estimator {font-family: monospace;background-color: #f0f8ff;border: 1px dotted black;border-radius: 0.25em;box-sizing: border-box;margin-bottom: 0.5em;}#sk-container-id-2 div.sk-estimator:hover {background-color: #d4ebff;}#sk-container-id-2 div.sk-parallel-item::after {content: \"\";width: 100%;border-bottom: 1px solid gray;flex-grow: 1;}#sk-container-id-2 div.sk-label:hover label.sk-toggleable__label {background-color: #d4ebff;}#sk-container-id-2 div.sk-serial::before {content: \"\";position: absolute;border-left: 1px solid gray;box-sizing: border-box;top: 0;bottom: 0;left: 50%;z-index: 0;}#sk-container-id-2 div.sk-serial {display: flex;flex-direction: column;align-items: center;background-color: white;padding-right: 0.2em;padding-left: 0.2em;position: relative;}#sk-container-id-2 div.sk-item {position: relative;z-index: 1;}#sk-container-id-2 div.sk-parallel {display: flex;align-items: stretch;justify-content: center;background-color: white;position: relative;}#sk-container-id-2 div.sk-item::before, #sk-container-id-2 div.sk-parallel-item::before {content: \"\";position: absolute;border-left: 1px solid gray;box-sizing: border-box;top: 0;bottom: 0;left: 50%;z-index: -1;}#sk-container-id-2 div.sk-parallel-item {display: flex;flex-direction: column;z-index: 1;position: relative;background-color: white;}#sk-container-id-2 div.sk-parallel-item:first-child::after {align-self: flex-end;width: 50%;}#sk-container-id-2 div.sk-parallel-item:last-child::after {align-self: flex-start;width: 50%;}#sk-container-id-2 div.sk-parallel-item:only-child::after {width: 0;}#sk-container-id-2 div.sk-dashed-wrapped {border: 1px dashed gray;margin: 0 0.4em 0.5em 0.4em;box-sizing: border-box;padding-bottom: 0.4em;background-color: white;}#sk-container-id-2 div.sk-label label {font-family: monospace;font-weight: bold;display: inline-block;line-height: 1.2em;}#sk-container-id-2 div.sk-label-container {text-align: center;}#sk-container-id-2 div.sk-container {/* jupyter's `normalize.less` sets `[hidden] { display: none; }` but bootstrap.min.css set `[hidden] { display: none !important; }` so we also need the `!important` here to be able to override the default hidden behavior on the sphinx rendered scikit-learn.org. See: https://github.com/scikit-learn/scikit-learn/issues/21755 */display: inline-block !important;position: relative;}#sk-container-id-2 div.sk-text-repr-fallback {display: none;}</style><div id=\"sk-container-id-2\" class=\"sk-top-container\"><div class=\"sk-text-repr-fallback\"><pre>RandomForestClassifier()</pre><b>In a Jupyter environment, please rerun this cell to show the HTML representation or trust the notebook. <br />On GitHub, the HTML representation is unable to render, please try loading this page with nbviewer.org.</b></div><div class=\"sk-container\" hidden><div class=\"sk-item\"><div class=\"sk-estimator sk-toggleable\"><input class=\"sk-toggleable__control sk-hidden--visually\" id=\"sk-estimator-id-2\" type=\"checkbox\" checked><label for=\"sk-estimator-id-2\" class=\"sk-toggleable__label sk-toggleable__label-arrow\">RandomForestClassifier</label><div class=\"sk-toggleable__content\"><pre>RandomForestClassifier()</pre></div></div></div></div></div>"
      ],
      "text/plain": [
       "RandomForestClassifier()"
      ]
     },
     "execution_count": 22,
     "metadata": {},
     "output_type": "execute_result"
    }
   ],
   "source": [
    "from sklearn.ensemble import RandomForestClassifier\n",
    "rf=RandomForestClassifier()\n",
    "rf.fit(x_train,y_train)"
   ]
  },
  {
   "cell_type": "code",
   "execution_count": 23,
   "metadata": {},
   "outputs": [
    {
     "name": "stdout",
     "output_type": "stream",
     "text": [
      "Accuracy of the model is =  83.65896980461812\n"
     ]
    }
   ],
   "source": [
    "score=rf.score(x_test,y_test)\n",
    "print(\"Accuracy of the model is = \",score*100)"
   ]
  },
  {
   "cell_type": "code",
   "execution_count": 28,
   "metadata": {},
   "outputs": [],
   "source": [
    "from sklearn.metrics import confusion_matrix,classification_report,accuracy_score\n",
    "cm=confusion_matrix(y_test,y_pred)\n",
    "conf=pd.DataFrame(data=cm,columns=['Predicted:0','Predicted:1'],index=['Actual:0','Actual:1'])"
   ]
  },
  {
   "cell_type": "code",
   "execution_count": 25,
   "metadata": {},
   "outputs": [
    {
     "data": {
      "image/png": "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",
      "text/plain": [
       "<Figure size 800x500 with 2 Axes>"
      ]
     },
     "metadata": {},
     "output_type": "display_data"
    },
    {
     "name": "stdout",
     "output_type": "stream",
     "text": [
      "The details for confdusion matrix is = \n",
      "              precision    recall  f1-score   support\n",
      "\n",
      "           0       0.85      0.99      0.92       951\n",
      "           1       0.61      0.08      0.14       175\n",
      "\n",
      "    accuracy                           0.85      1126\n",
      "   macro avg       0.73      0.54      0.53      1126\n",
      "weighted avg       0.82      0.85      0.80      1126\n",
      "\n"
     ]
    }
   ],
   "source": [
    "plt.figure(figsize=(8,5))\n",
    "sn.heatmap(conf,annot=True,fmt='d',cmap=\"Reds\")\n",
    "plt.show()\n",
    "print('The details for confdusion matrix is = ')\n",
    "print(classification_report(y_test,y_pred))"
   ]
  },
  {
   "cell_type": "code",
   "execution_count": 29,
   "metadata": {},
   "outputs": [
    {
     "data": {
      "text/plain": [
       "0.8490230905861457"
      ]
     },
     "execution_count": 29,
     "metadata": {},
     "output_type": "execute_result"
    }
   ],
   "source": [
    "accuracy_score(y_test,y_pred)"
   ]
  },
  {
   "cell_type": "code",
   "execution_count": 30,
   "metadata": {},
   "outputs": [
    {
     "data": {
      "text/html": [
       "<style>#sk-container-id-3 {color: black;}#sk-container-id-3 pre{padding: 0;}#sk-container-id-3 div.sk-toggleable {background-color: white;}#sk-container-id-3 label.sk-toggleable__label {cursor: pointer;display: block;width: 100%;margin-bottom: 0;padding: 0.3em;box-sizing: border-box;text-align: center;}#sk-container-id-3 label.sk-toggleable__label-arrow:before {content: \"▸\";float: left;margin-right: 0.25em;color: #696969;}#sk-container-id-3 label.sk-toggleable__label-arrow:hover:before {color: black;}#sk-container-id-3 div.sk-estimator:hover label.sk-toggleable__label-arrow:before {color: black;}#sk-container-id-3 div.sk-toggleable__content {max-height: 0;max-width: 0;overflow: hidden;text-align: left;background-color: #f0f8ff;}#sk-container-id-3 div.sk-toggleable__content pre {margin: 0.2em;color: black;border-radius: 0.25em;background-color: #f0f8ff;}#sk-container-id-3 input.sk-toggleable__control:checked~div.sk-toggleable__content {max-height: 200px;max-width: 100%;overflow: auto;}#sk-container-id-3 input.sk-toggleable__control:checked~label.sk-toggleable__label-arrow:before {content: \"▾\";}#sk-container-id-3 div.sk-estimator input.sk-toggleable__control:checked~label.sk-toggleable__label {background-color: #d4ebff;}#sk-container-id-3 div.sk-label input.sk-toggleable__control:checked~label.sk-toggleable__label {background-color: #d4ebff;}#sk-container-id-3 input.sk-hidden--visually {border: 0;clip: rect(1px 1px 1px 1px);clip: rect(1px, 1px, 1px, 1px);height: 1px;margin: -1px;overflow: hidden;padding: 0;position: absolute;width: 1px;}#sk-container-id-3 div.sk-estimator {font-family: monospace;background-color: #f0f8ff;border: 1px dotted black;border-radius: 0.25em;box-sizing: border-box;margin-bottom: 0.5em;}#sk-container-id-3 div.sk-estimator:hover {background-color: #d4ebff;}#sk-container-id-3 div.sk-parallel-item::after {content: \"\";width: 100%;border-bottom: 1px solid gray;flex-grow: 1;}#sk-container-id-3 div.sk-label:hover label.sk-toggleable__label {background-color: #d4ebff;}#sk-container-id-3 div.sk-serial::before {content: \"\";position: absolute;border-left: 1px solid gray;box-sizing: border-box;top: 0;bottom: 0;left: 50%;z-index: 0;}#sk-container-id-3 div.sk-serial {display: flex;flex-direction: column;align-items: center;background-color: white;padding-right: 0.2em;padding-left: 0.2em;position: relative;}#sk-container-id-3 div.sk-item {position: relative;z-index: 1;}#sk-container-id-3 div.sk-parallel {display: flex;align-items: stretch;justify-content: center;background-color: white;position: relative;}#sk-container-id-3 div.sk-item::before, #sk-container-id-3 div.sk-parallel-item::before {content: \"\";position: absolute;border-left: 1px solid gray;box-sizing: border-box;top: 0;bottom: 0;left: 50%;z-index: -1;}#sk-container-id-3 div.sk-parallel-item {display: flex;flex-direction: column;z-index: 1;position: relative;background-color: white;}#sk-container-id-3 div.sk-parallel-item:first-child::after {align-self: flex-end;width: 50%;}#sk-container-id-3 div.sk-parallel-item:last-child::after {align-self: flex-start;width: 50%;}#sk-container-id-3 div.sk-parallel-item:only-child::after {width: 0;}#sk-container-id-3 div.sk-dashed-wrapped {border: 1px dashed gray;margin: 0 0.4em 0.5em 0.4em;box-sizing: border-box;padding-bottom: 0.4em;background-color: white;}#sk-container-id-3 div.sk-label label {font-family: monospace;font-weight: bold;display: inline-block;line-height: 1.2em;}#sk-container-id-3 div.sk-label-container {text-align: center;}#sk-container-id-3 div.sk-container {/* jupyter's `normalize.less` sets `[hidden] { display: none; }` but bootstrap.min.css set `[hidden] { display: none !important; }` so we also need the `!important` here to be able to override the default hidden behavior on the sphinx rendered scikit-learn.org. See: https://github.com/scikit-learn/scikit-learn/issues/21755 */display: inline-block !important;position: relative;}#sk-container-id-3 div.sk-text-repr-fallback {display: none;}</style><div id=\"sk-container-id-3\" class=\"sk-top-container\"><div class=\"sk-text-repr-fallback\"><pre>DecisionTreeClassifier()</pre><b>In a Jupyter environment, please rerun this cell to show the HTML representation or trust the notebook. <br />On GitHub, the HTML representation is unable to render, please try loading this page with nbviewer.org.</b></div><div class=\"sk-container\" hidden><div class=\"sk-item\"><div class=\"sk-estimator sk-toggleable\"><input class=\"sk-toggleable__control sk-hidden--visually\" id=\"sk-estimator-id-3\" type=\"checkbox\" checked><label for=\"sk-estimator-id-3\" class=\"sk-toggleable__label sk-toggleable__label-arrow\">DecisionTreeClassifier</label><div class=\"sk-toggleable__content\"><pre>DecisionTreeClassifier()</pre></div></div></div></div></div>"
      ],
      "text/plain": [
       "DecisionTreeClassifier()"
      ]
     },
     "execution_count": 30,
     "metadata": {},
     "output_type": "execute_result"
    }
   ],
   "source": [
    "from sklearn.tree import DecisionTreeClassifier\n",
    "dtc=DecisionTreeClassifier()\n",
    "dtc.fit(x_train,y_train)"
   ]
  },
  {
   "cell_type": "code",
   "execution_count": 31,
   "metadata": {},
   "outputs": [],
   "source": [
    "predY=dtc.predict(x_test)"
   ]
  },
  {
   "cell_type": "code",
   "execution_count": 32,
   "metadata": {},
   "outputs": [
    {
     "name": "stdout",
     "output_type": "stream",
     "text": [
      "              precision    recall  f1-score   support\n",
      "\n",
      "           0       0.87      0.84      0.85       951\n",
      "           1       0.25      0.29      0.27       175\n",
      "\n",
      "    accuracy                           0.76      1126\n",
      "   macro avg       0.56      0.57      0.56      1126\n",
      "weighted avg       0.77      0.76      0.76      1126\n",
      "\n"
     ]
    }
   ],
   "source": [
    "print(classification_report(y_test,predY))"
   ]
  },
  {
   "cell_type": "code",
   "execution_count": 33,
   "metadata": {},
   "outputs": [],
   "source": [
    "conf_dtc=confusion_matrix(y_test,predY)"
   ]
  },
  {
   "cell_type": "code",
   "execution_count": 34,
   "metadata": {},
   "outputs": [
    {
     "data": {
      "image/png": "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",
      "text/plain": [
       "<Figure size 480x480 with 1 Axes>"
      ]
     },
     "metadata": {},
     "output_type": "display_data"
    }
   ],
   "source": [
    "plt.matshow(conf_dtc)\n",
    "plt.xlabel('Predicted Class')\n",
    "plt.ylabel('Actual Class')\n",
    "for i in range(2):\n",
    "    for j in range(2):\n",
    "        plt.text(j,i,conf_dtc[i,j],ha='center',va='center')\n",
    "plt.show()"
   ]
  },
  {
   "cell_type": "code",
   "execution_count": 35,
   "metadata": {},
   "outputs": [
    {
     "data": {
      "text/plain": [
       "1.0"
      ]
     },
     "execution_count": 35,
     "metadata": {},
     "output_type": "execute_result"
    }
   ],
   "source": [
    "dtc.score(x_train,y_train)"
   ]
  },
  {
   "cell_type": "code",
   "execution_count": 36,
   "metadata": {},
   "outputs": [
    {
     "data": {
      "text/plain": [
       "0.7557726465364121"
      ]
     },
     "execution_count": 36,
     "metadata": {},
     "output_type": "execute_result"
    }
   ],
   "source": [
    "accuracy_score(y_test,predY)"
   ]
  }
 ],
 "metadata": {
  "kernelspec": {
   "display_name": "Python 3",
   "language": "python",
   "name": "python3"
  },
  "language_info": {
   "codemirror_mode": {
    "name": "ipython",
    "version": 3
   },
   "file_extension": ".py",
   "mimetype": "text/x-python",
   "name": "python",
   "nbconvert_exporter": "python",
   "pygments_lexer": "ipython3",
   "version": "3.8.10"
  },
  "orig_nbformat": 4
 },
 "nbformat": 4,
 "nbformat_minor": 2
}
